{
  "nbformat": 4,
  "nbformat_minor": 0,
  "metadata": {
    "colab": {
      "name": "Amazon_Reviews_ETL.ipynb",
      "provenance": [],
      "collapsed_sections": [],
      "include_colab_link": true
    },
    "kernelspec": {
      "name": "python3",
      "display_name": "Python 3"
    },
    "nteract": {
      "version": "0.12.3"
    },
    "language_info": {
      "name": "python"
    }
  },
  "cells": [
    {
      "cell_type": "markdown",
      "metadata": {
        "id": "view-in-github",
        "colab_type": "text"
      },
      "source": [
        "<a href=\"https://colab.research.google.com/github/joszpr/Amazon_Vine_Analysis/blob/main/Amazon_Reviews_ETL.ipynb\" target=\"_parent\"><img src=\"https://colab.research.google.com/assets/colab-badge.svg\" alt=\"Open In Colab\"/></a>"
      ]
    },
    {
      "cell_type": "code",
      "metadata": {
        "id": "V58rxea0HqSa",
        "colab": {
          "base_uri": "https://localhost:8080/"
        },
        "outputId": "cf909052-9324-40ba-e6b9-e032f0e55f29"
      },
      "source": [
        "import os\n",
        "# Find the latest version of spark 3.0 from http://www.apache.org/dist/spark/ and enter as the spark version\n",
        "# For example:\n",
        "# spark_version = 'spark-3.0.3'\n",
        "spark_version = 'spark-3.0.3'\n",
        "os.environ['SPARK_VERSION']=spark_version\n",
        "\n",
        "# Install Spark and Java\n",
        "!apt-get update\n",
        "!apt-get install openjdk-11-jdk-headless -qq > /dev/null\n",
        "!wget -q http://www.apache.org/dist/spark/$SPARK_VERSION/$SPARK_VERSION-bin-hadoop2.7.tgz\n",
        "!tar xf $SPARK_VERSION-bin-hadoop2.7.tgz\n",
        "!pip install -q findspark\n",
        "\n",
        "# Set Environment Variables\n",
        "import os\n",
        "os.environ[\"JAVA_HOME\"] = \"/usr/lib/jvm/java-11-openjdk-amd64\"\n",
        "os.environ[\"SPARK_HOME\"] = f\"/content/{spark_version}-bin-hadoop2.7\"\n",
        "\n",
        "# Start a SparkSession\n",
        "import findspark\n",
        "findspark.init()"
      ],
      "execution_count": 1,
      "outputs": [
        {
          "output_type": "stream",
          "name": "stdout",
          "text": [
            "Get:1 http://security.ubuntu.com/ubuntu bionic-security InRelease [88.7 kB]\n",
            "Get:2 https://cloud.r-project.org/bin/linux/ubuntu bionic-cran40/ InRelease [3,626 B]\n",
            "Ign:3 https://developer.download.nvidia.com/compute/cuda/repos/ubuntu1804/x86_64  InRelease\n",
            "Hit:4 http://archive.ubuntu.com/ubuntu bionic InRelease\n",
            "Hit:5 http://ppa.launchpad.net/c2d4u.team/c2d4u4.0+/ubuntu bionic InRelease\n",
            "Ign:6 https://developer.download.nvidia.com/compute/machine-learning/repos/ubuntu1804/x86_64  InRelease\n",
            "Get:7 https://developer.download.nvidia.com/compute/cuda/repos/ubuntu1804/x86_64  Release [696 B]\n",
            "Hit:8 https://developer.download.nvidia.com/compute/machine-learning/repos/ubuntu1804/x86_64  Release\n",
            "Get:9 https://developer.download.nvidia.com/compute/cuda/repos/ubuntu1804/x86_64  Release.gpg [836 B]\n",
            "Get:10 http://archive.ubuntu.com/ubuntu bionic-updates InRelease [88.7 kB]\n",
            "Hit:11 http://ppa.launchpad.net/cran/libgit2/ubuntu bionic InRelease\n",
            "Hit:12 http://ppa.launchpad.net/deadsnakes/ppa/ubuntu bionic InRelease\n",
            "Get:13 http://archive.ubuntu.com/ubuntu bionic-backports InRelease [74.6 kB]\n",
            "Get:14 http://security.ubuntu.com/ubuntu bionic-security/universe amd64 Packages [1,434 kB]\n",
            "Hit:15 http://ppa.launchpad.net/graphics-drivers/ppa/ubuntu bionic InRelease\n",
            "Get:16 http://security.ubuntu.com/ubuntu bionic-security/main amd64 Packages [2,398 kB]\n",
            "Get:18 https://developer.download.nvidia.com/compute/cuda/repos/ubuntu1804/x86_64  Packages [786 kB]\n",
            "Get:19 http://archive.ubuntu.com/ubuntu bionic-updates/main amd64 Packages [2,835 kB]\n",
            "Get:20 http://archive.ubuntu.com/ubuntu bionic-updates/universe amd64 Packages [2,213 kB]\n",
            "Fetched 9,924 kB in 4s (2,338 kB/s)\n",
            "Reading package lists... Done\n"
          ]
        }
      ]
    },
    {
      "cell_type": "code",
      "metadata": {
        "id": "_xKwTpATHqSe",
        "colab": {
          "base_uri": "https://localhost:8080/"
        },
        "outputId": "bd696d70-eb91-4411-a2a0-eef47d558d62"
      },
      "source": [
        "# Download the Postgres driver that will allow Spark to interact with Postgres.\n",
        "!wget https://jdbc.postgresql.org/download/postgresql-42.2.16.jar"
      ],
      "execution_count": 2,
      "outputs": [
        {
          "output_type": "stream",
          "name": "stdout",
          "text": [
            "--2021-10-29 20:30:43--  https://jdbc.postgresql.org/download/postgresql-42.2.16.jar\n",
            "Resolving jdbc.postgresql.org (jdbc.postgresql.org)... 72.32.157.228, 2001:4800:3e1:1::228\n",
            "Connecting to jdbc.postgresql.org (jdbc.postgresql.org)|72.32.157.228|:443... connected.\n",
            "HTTP request sent, awaiting response... 200 OK\n",
            "Length: 1002883 (979K) [application/java-archive]\n",
            "Saving to: ‘postgresql-42.2.16.jar’\n",
            "\n",
            "postgresql-42.2.16. 100%[===================>] 979.38K  --.-KB/s    in 0.08s   \n",
            "\n",
            "2021-10-29 20:30:43 (11.7 MB/s) - ‘postgresql-42.2.16.jar’ saved [1002883/1002883]\n",
            "\n"
          ]
        }
      ]
    },
    {
      "cell_type": "code",
      "metadata": {
        "id": "MMqDAjVS0KN9"
      },
      "source": [
        "# Start a Spark session with an additional option that adds the driver to Spark\n",
        "from pyspark.sql import SparkSession\n",
        "spark = SparkSession.builder.appName(\"M16-Amazon-Challenge\").config(\"spark.driver.extraClassPath\",\"/content/postgresql-42.2.16.jar\").getOrCreate()"
      ],
      "execution_count": 3,
      "outputs": []
    },
    {
      "cell_type": "markdown",
      "metadata": {
        "id": "cyBsySGuY-9V"
      },
      "source": [
        "### Load Amazon Data into Spark DataFrame"
      ]
    },
    {
      "cell_type": "code",
      "metadata": {
        "id": "CtCmBhQJY-9Z",
        "colab": {
          "base_uri": "https://localhost:8080/"
        },
        "outputId": "c40dead7-5d7e-4fd5-feba-f4e7dd0e5444"
      },
      "source": [
        "from pyspark import SparkFiles\n",
        "url = \"https://joszpr-amz-reviews.s3.us-east-2.amazonaws.com/sample_us.tsv\"\n",
        "spark.sparkContext.addFile(url)\n",
        "df = spark.read.option(\"encoding\", \"UTF-8\").csv(SparkFiles.get(\"sample_us.tsv\"), sep=\"\\t\", header=True, inferSchema=True)\n",
        "df.show()"
      ],
      "execution_count": 4,
      "outputs": [
        {
          "output_type": "stream",
          "name": "stdout",
          "text": [
            "+-----------+-----------+--------------+----------+--------------+--------------------+----------------+-----------+-------------+-----------+----+-----------------+--------------------+--------------------+-----------+\n",
            "|marketplace|customer_id|     review_id|product_id|product_parent|       product_title|product_category|star_rating|helpful_votes|total_votes|vine|verified_purchase|     review_headline|         review_body|review_date|\n",
            "+-----------+-----------+--------------+----------+--------------+--------------------+----------------+-----------+-------------+-----------+----+-----------------+--------------------+--------------------+-----------+\n",
            "|         US|   18778586| RDIJS7QYB6XNR|B00EDBY7X8|     122952789|Monopoly Junior B...|            Toys|          5|            0|          0|   N|                Y|          Five Stars|        Excellent!!!| 2015-08-31|\n",
            "|         US|   24769659|R36ED1U38IELG8|B00D7JFOPC|     952062646|56 Pieces of Wood...|            Toys|          5|            0|          0|   N|                Y|Good quality trac...|Great quality woo...| 2015-08-31|\n",
            "|         US|   44331596| R1UE3RPRGCOLD|B002LHA74O|     818126353|Super Jumbo Playi...|            Toys|          2|            1|          1|   N|                Y|           Two Stars|Cards are not as ...| 2015-08-31|\n",
            "|         US|   23310293|R298788GS6I901|B00ARPLCGY|     261944918|Barbie Doll and F...|            Toys|          5|            0|          0|   N|                Y|my daughter loved...|my daughter loved...| 2015-08-31|\n",
            "|         US|   38745832|  RNX4EXOBBPN5|B00UZOPOFW|     717410439|Emazing Lights eL...|            Toys|          1|            1|          1|   N|                Y|     DONT BUY THESE!|Do not buy these!...| 2015-08-31|\n",
            "|         US|   13394189|R3BPETL222LMIM|B009B7F6CA|     873028700|Melissa & Doug Wa...|            Toys|          5|            0|          0|   N|                Y|          Five Stars|Great item. Pictu...| 2015-08-31|\n",
            "|         US|    2749569|R3SORMPJZO3F2J|B0101EHRSM|     723424342|Big Bang Cosmic P...|            Toys|          3|            2|          2|   N|                Y|         Three Stars|To keep together,...| 2015-08-31|\n",
            "|         US|   41137196|R2RDOJQ0WBZCF6|B00407S11Y|     383363775|Fun Express Insec...|            Toys|          5|            0|          0|   N|                Y|          Five Stars|I was pleased wit...| 2015-08-31|\n",
            "|         US|     433677|R2B8VBEPB4YEZ7|B00FGPU7U2|     780517568|Fisher-Price Octo...|            Toys|          5|            0|          0|   N|                Y|          Five Stars|    Children like it| 2015-08-31|\n",
            "|         US|    1297934|R1CB783I7B0U52|B0013OY0S0|     269360126|Claw Climber Goli...|            Toys|          1|            0|          1|   N|                Y|Shame on the sell...|Showed up not how...| 2015-08-31|\n",
            "|         US|   52006292| R2D90RQQ3V8LH|B00519PJTW|     493486387|100 Foot Multicol...|            Toys|          5|            0|          0|   N|                Y|          Five Stars|Really liked thes...| 2015-08-31|\n",
            "|         US|   32071052|R1Y4ZOUGFMJ327|B001TCY2DO|     459122467|Pig Jumbo Foil Ba...|            Toys|          5|            0|          0|   N|                Y|   Nice huge balloon|Nice huge balloon...| 2015-08-31|\n",
            "|         US|    7360347|R2BUV9QJI2A00X|B00DOQCWF8|     226984155|Minecraft Animal ...|            Toys|          5|            0|          1|   N|                Y|          Five Stars|          Great deal| 2015-08-31|\n",
            "|         US|   11613707| RSUHRJFJIRB3Z|B004C04I4I|     375659886|Disney Baby: Eeyo...|            Toys|          4|            0|          0|   N|                Y|          Four Stars|       As Advertised| 2015-08-31|\n",
            "|         US|   13545982|R1T96CG98BBA15|B00NWGEKBY|     933734136|Team Losi 8IGHT-E...|            Toys|          3|            2|          4|   N|                Y|... servo so expe...|Comes w a 15$ ser...| 2015-08-31|\n",
            "|         US|   43880421| R2ATXF4QQ30YW|B00000JS5S|     341842639|Hot Wheels 48- Ca...|            Toys|          5|            0|          0|   N|                Y|          Five Stars|   awesome ! Thanks!| 2015-08-31|\n",
            "|         US|    1662075|R1YS3DS218NNMD|B00XPWXYDK|     210135375|ZuZo 2.4GHz 4 CH ...|            Toys|          5|            4|          4|   N|                N|The closest relev...|I got this item f...| 2015-08-31|\n",
            "|         US|   18461411|R2SDXLTLF92O0H|B00VPXX92W|     705054378|Teenage Mutant Ni...|            Toys|          5|            0|          0|   N|                Y|          Five Stars|It was a birthday...| 2015-08-31|\n",
            "|         US|   27225859| R4R337CCDWLNG|B00YRA3H4U|     223420727|Franklin Sports M...|            Toys|          3|            0|          1|   Y|                N|Got wrong product...|Got a wrong produ...| 2015-08-31|\n",
            "|         US|   20494593|R32Z6UA4S5Q630|B009T8BSQY|     787701676|Alien Frontiers: ...|            Toys|          1|            0|          0|   N|                Y|         Overpriced.|You need expansio...| 2015-08-31|\n",
            "+-----------+-----------+--------------+----------+--------------+--------------------+----------------+-----------+-------------+-----------+----+-----------------+--------------------+--------------------+-----------+\n",
            "only showing top 20 rows\n",
            "\n"
          ]
        }
      ]
    },
    {
      "cell_type": "markdown",
      "metadata": {
        "id": "2yUSe55VY-9t"
      },
      "source": [
        "### Create DataFrames to match tables"
      ]
    },
    {
      "cell_type": "code",
      "metadata": {
        "colab": {
          "base_uri": "https://localhost:8080/"
        },
        "id": "r9ky8ZVjyfYL",
        "outputId": "7d02b991-c037-47a3-9735-bc4dd1bfab76"
      },
      "source": [
        "# Print our schema\n",
        "df.printSchema()"
      ],
      "execution_count": 6,
      "outputs": [
        {
          "output_type": "stream",
          "name": "stdout",
          "text": [
            "root\n",
            " |-- marketplace: string (nullable = true)\n",
            " |-- customer_id: integer (nullable = true)\n",
            " |-- review_id: string (nullable = true)\n",
            " |-- product_id: string (nullable = true)\n",
            " |-- product_parent: integer (nullable = true)\n",
            " |-- product_title: string (nullable = true)\n",
            " |-- product_category: string (nullable = true)\n",
            " |-- star_rating: integer (nullable = true)\n",
            " |-- helpful_votes: integer (nullable = true)\n",
            " |-- total_votes: integer (nullable = true)\n",
            " |-- vine: string (nullable = true)\n",
            " |-- verified_purchase: string (nullable = true)\n",
            " |-- review_headline: string (nullable = true)\n",
            " |-- review_body: string (nullable = true)\n",
            " |-- review_date: string (nullable = true)\n",
            "\n"
          ]
        }
      ]
    },
    {
      "cell_type": "code",
      "metadata": {
        "id": "C8REmY1aY-9u"
      },
      "source": [
        "from pyspark.sql.functions import to_date\n",
        "# Read in the Review dataset as a DataFrame\n",
        "# Convert review_date column to date data type\n",
        "df.review_date = df.select(to_date(df.review_date, 'yyyy-MM-dd').alias('date')).collect()"
      ],
      "execution_count": 13,
      "outputs": []
    },
    {
      "cell_type": "code",
      "metadata": {
        "id": "B0TESUDRY-90",
        "colab": {
          "base_uri": "https://localhost:8080/"
        },
        "outputId": "8faf094a-8e5a-4397-adfc-edad82af11af"
      },
      "source": [
        "# Create the customers_table DataFrame\n",
        "customers_df = df.groupby(\"customer_id\").agg({\"customer_id\" : \"count\"}).withColumnRenamed(\"count(customer_id)\", \"customer_count\")\n",
        "customers_df.show()"
      ],
      "execution_count": 32,
      "outputs": [
        {
          "output_type": "stream",
          "name": "stdout",
          "text": [
            "+-----------+--------------+\n",
            "|customer_id|customer_count|\n",
            "+-----------+--------------+\n",
            "|   18461411|             1|\n",
            "|   44331596|             1|\n",
            "|   20962528|             1|\n",
            "|   34874898|             1|\n",
            "|    6762003|             1|\n",
            "|    1297934|             1|\n",
            "|   13328687|             1|\n",
            "|    2749569|             1|\n",
            "|   12612039|             1|\n",
            "|   11613707|             1|\n",
            "|    5543658|             1|\n",
            "|    7360347|             1|\n",
            "|   45601416|             1|\n",
            "|   27225859|             1|\n",
            "|   32910511|             1|\n",
            "|   47546726|             1|\n",
            "|   13545982|             1|\n",
            "|   12191231|             1|\n",
            "|     433677|             1|\n",
            "|   13394189|             1|\n",
            "+-----------+--------------+\n",
            "only showing top 20 rows\n",
            "\n"
          ]
        }
      ]
    },
    {
      "cell_type": "code",
      "metadata": {
        "id": "4FwXA6UvY-96",
        "colab": {
          "base_uri": "https://localhost:8080/"
        },
        "outputId": "f1930bdd-ae89-4af4-af2e-8bb5523ec6e0"
      },
      "source": [
        "# Create the products_table DataFrame and drop duplicates. \n",
        "products_df = df.select([\"product_id\", \"product_title\"]).drop_duplicates()\n",
        "products_df.show()"
      ],
      "execution_count": 33,
      "outputs": [
        {
          "output_type": "stream",
          "name": "stdout",
          "text": [
            "+----------+--------------------+\n",
            "|product_id|       product_title|\n",
            "+----------+--------------------+\n",
            "|B00CAEEDC0|Seat Pets Car Sea...|\n",
            "|B00V5DM3RE|Yoga Joes - Green...|\n",
            "|B008W1BPWQ|Peppa Pig 7 Wood ...|\n",
            "|1591749352|Klutz Sticker Des...|\n",
            "|B002LHA74O|Super Jumbo Playi...|\n",
            "|B00UZOPOFW|Emazing Lights eL...|\n",
            "|B004C04I4I|Disney Baby: Eeyo...|\n",
            "|B00JLKI69W|WOW Toys Town Adv...|\n",
            "|B00GNDY40U|Pokemon - Gyarado...|\n",
            "|B00WJ1OPMW|LeapFrog LeapTV L...|\n",
            "|B00JVY9J1M|Winston Zeddmore ...|\n",
            "|B0013OY0S0|Claw Climber Goli...|\n",
            "|B00NWGEKBY|Team Losi 8IGHT-E...|\n",
            "|B004S8F7QM|Cards Against Hum...|\n",
            "|B00FGPU7U2|Fisher-Price Octo...|\n",
            "|B009T8BSQY|Alien Frontiers: ...|\n",
            "|B00519PJTW|100 Foot Multicol...|\n",
            "|B000PEOMC8|Intex River Run I...|\n",
            "|B00WAKEQLW|Whiffer Sniffers ...|\n",
            "|B0101EHRSM|Big Bang Cosmic P...|\n",
            "+----------+--------------------+\n",
            "only showing top 20 rows\n",
            "\n"
          ]
        }
      ]
    },
    {
      "cell_type": "code",
      "metadata": {
        "id": "MkqyCuNQY-9-",
        "colab": {
          "base_uri": "https://localhost:8080/"
        },
        "outputId": "d16d43ca-7413-4110-c8c9-55914f84b964"
      },
      "source": [
        "# Create the review_id_table DataFrame. \n",
        "# Convert the 'review_date' column to a date datatype with to_date(\"review_date\", 'yyyy-MM-dd').alias(\"review_date\")\n",
        "review_id_df = df.select([\"review_id\", \"customer_id\", \"product_id\", \"product_parent\", to_date(\"review_date\", 'yyyy-MM-dd').alias(\"review_date\")])\n",
        "review_id_df.show()"
      ],
      "execution_count": 35,
      "outputs": [
        {
          "output_type": "stream",
          "name": "stdout",
          "text": [
            "+--------------+-----------+----------+--------------+-----------+\n",
            "|     review_id|customer_id|product_id|product_parent|review_date|\n",
            "+--------------+-----------+----------+--------------+-----------+\n",
            "| RDIJS7QYB6XNR|   18778586|B00EDBY7X8|     122952789| 2015-08-31|\n",
            "|R36ED1U38IELG8|   24769659|B00D7JFOPC|     952062646| 2015-08-31|\n",
            "| R1UE3RPRGCOLD|   44331596|B002LHA74O|     818126353| 2015-08-31|\n",
            "|R298788GS6I901|   23310293|B00ARPLCGY|     261944918| 2015-08-31|\n",
            "|  RNX4EXOBBPN5|   38745832|B00UZOPOFW|     717410439| 2015-08-31|\n",
            "|R3BPETL222LMIM|   13394189|B009B7F6CA|     873028700| 2015-08-31|\n",
            "|R3SORMPJZO3F2J|    2749569|B0101EHRSM|     723424342| 2015-08-31|\n",
            "|R2RDOJQ0WBZCF6|   41137196|B00407S11Y|     383363775| 2015-08-31|\n",
            "|R2B8VBEPB4YEZ7|     433677|B00FGPU7U2|     780517568| 2015-08-31|\n",
            "|R1CB783I7B0U52|    1297934|B0013OY0S0|     269360126| 2015-08-31|\n",
            "| R2D90RQQ3V8LH|   52006292|B00519PJTW|     493486387| 2015-08-31|\n",
            "|R1Y4ZOUGFMJ327|   32071052|B001TCY2DO|     459122467| 2015-08-31|\n",
            "|R2BUV9QJI2A00X|    7360347|B00DOQCWF8|     226984155| 2015-08-31|\n",
            "| RSUHRJFJIRB3Z|   11613707|B004C04I4I|     375659886| 2015-08-31|\n",
            "|R1T96CG98BBA15|   13545982|B00NWGEKBY|     933734136| 2015-08-31|\n",
            "| R2ATXF4QQ30YW|   43880421|B00000JS5S|     341842639| 2015-08-31|\n",
            "|R1YS3DS218NNMD|    1662075|B00XPWXYDK|     210135375| 2015-08-31|\n",
            "|R2SDXLTLF92O0H|   18461411|B00VPXX92W|     705054378| 2015-08-31|\n",
            "| R4R337CCDWLNG|   27225859|B00YRA3H4U|     223420727| 2015-08-31|\n",
            "|R32Z6UA4S5Q630|   20494593|B009T8BSQY|     787701676| 2015-08-31|\n",
            "+--------------+-----------+----------+--------------+-----------+\n",
            "only showing top 20 rows\n",
            "\n"
          ]
        }
      ]
    },
    {
      "cell_type": "code",
      "metadata": {
        "id": "lzMmkdKmY--D",
        "colab": {
          "base_uri": "https://localhost:8080/"
        },
        "outputId": "266129bc-f333-497e-8c80-052c0b2880dd"
      },
      "source": [
        "# Create the vine_table. DataFrame\n",
        "vine_df = df.select([\"review_id\", \"star_rating\", \"helpful_votes\", \"total_votes\", \"vine\", \"verified_purchase\"])\n",
        "vine_df.show()"
      ],
      "execution_count": 37,
      "outputs": [
        {
          "output_type": "stream",
          "name": "stdout",
          "text": [
            "+--------------+-----------+-------------+-----------+----+-----------------+\n",
            "|     review_id|star_rating|helpful_votes|total_votes|vine|verified_purchase|\n",
            "+--------------+-----------+-------------+-----------+----+-----------------+\n",
            "| RDIJS7QYB6XNR|          5|            0|          0|   N|                Y|\n",
            "|R36ED1U38IELG8|          5|            0|          0|   N|                Y|\n",
            "| R1UE3RPRGCOLD|          2|            1|          1|   N|                Y|\n",
            "|R298788GS6I901|          5|            0|          0|   N|                Y|\n",
            "|  RNX4EXOBBPN5|          1|            1|          1|   N|                Y|\n",
            "|R3BPETL222LMIM|          5|            0|          0|   N|                Y|\n",
            "|R3SORMPJZO3F2J|          3|            2|          2|   N|                Y|\n",
            "|R2RDOJQ0WBZCF6|          5|            0|          0|   N|                Y|\n",
            "|R2B8VBEPB4YEZ7|          5|            0|          0|   N|                Y|\n",
            "|R1CB783I7B0U52|          1|            0|          1|   N|                Y|\n",
            "| R2D90RQQ3V8LH|          5|            0|          0|   N|                Y|\n",
            "|R1Y4ZOUGFMJ327|          5|            0|          0|   N|                Y|\n",
            "|R2BUV9QJI2A00X|          5|            0|          1|   N|                Y|\n",
            "| RSUHRJFJIRB3Z|          4|            0|          0|   N|                Y|\n",
            "|R1T96CG98BBA15|          3|            2|          4|   N|                Y|\n",
            "| R2ATXF4QQ30YW|          5|            0|          0|   N|                Y|\n",
            "|R1YS3DS218NNMD|          5|            4|          4|   N|                N|\n",
            "|R2SDXLTLF92O0H|          5|            0|          0|   N|                Y|\n",
            "| R4R337CCDWLNG|          3|            0|          1|   Y|                N|\n",
            "|R32Z6UA4S5Q630|          1|            0|          0|   N|                Y|\n",
            "+--------------+-----------+-------------+-----------+----+-----------------+\n",
            "only showing top 20 rows\n",
            "\n"
          ]
        }
      ]
    },
    {
      "cell_type": "markdown",
      "metadata": {
        "id": "jITZhLkmY--J"
      },
      "source": [
        "### Connect to the AWS RDS instance and write each DataFrame to its table. "
      ]
    },
    {
      "cell_type": "code",
      "metadata": {
        "id": "7jiUvs1aY--L",
        "colab": {
          "base_uri": "https://localhost:8080/"
        },
        "outputId": "273950b0-ac02-4461-d483-45d52f3c6b39"
      },
      "source": [
        "# Store environmental variable\n",
        "from getpass import getpass\n",
        "password = getpass('Enter database password')\n",
        "# Configure settings for RDS\n",
        "mode = \"append\"\n",
        "jdbc_url=\"jdbc:postgresql://amz-reviews.c6kfuxoqqisj.us-east-2.rds.amazonaws.com:5432/amz-reviews\"\n",
        "config = {\"user\":\"postgres\", \n",
        "          \"password\": password, \n",
        "          \"driver\":\"org.postgresql.Driver\"}"
      ],
      "execution_count": 41,
      "outputs": [
        {
          "name": "stdout",
          "output_type": "stream",
          "text": [
            "Enter database password··········\n"
          ]
        }
      ]
    },
    {
      "cell_type": "code",
      "metadata": {
        "id": "T2zgZ-aKY--Q"
      },
      "source": [
        "# Write review_id_df to table in RDS\n",
        "review_id_df.write.jdbc(url=jdbc_url, table='review_id_table', mode=mode, properties=config)"
      ],
      "execution_count": 45,
      "outputs": []
    },
    {
      "cell_type": "code",
      "metadata": {
        "id": "1m3yzn-LY--U"
      },
      "source": [
        "# Write products_df to table in RDS\n",
        "# about 3 min\n",
        "products_df.write.jdbc(url=jdbc_url, table='products_table', mode=mode, properties=config)"
      ],
      "execution_count": 46,
      "outputs": []
    },
    {
      "cell_type": "code",
      "metadata": {
        "id": "KbXri15fY--Z"
      },
      "source": [
        "# Write customers_df to table in RDS\n",
        "# 5 min 14 s\n",
        "customers_df.write.jdbc(url=jdbc_url, table='customers_table', mode=mode, properties=config)"
      ],
      "execution_count": 47,
      "outputs": []
    },
    {
      "cell_type": "code",
      "metadata": {
        "id": "XdQknSHLY--e"
      },
      "source": [
        "# Write vine_df to table in RDS\n",
        "# 11 minutes\n",
        "vine_df.write.jdbc(url=jdbc_url, table='vine_table', mode=mode, properties=config)"
      ],
      "execution_count": 48,
      "outputs": []
    },
    {
      "cell_type": "code",
      "metadata": {
        "id": "Exuo6ebUsCqW"
      },
      "source": [
        ""
      ],
      "execution_count": null,
      "outputs": []
    }
  ]
}